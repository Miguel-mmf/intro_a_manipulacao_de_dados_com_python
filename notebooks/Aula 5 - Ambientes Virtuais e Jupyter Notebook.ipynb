{
 "cells": [
  {
   "cell_type": "markdown",
   "metadata": {},
   "source": [
    "<a href=\"http://www.cear.ufpb.br/pet\">\n",
    "    <img src=\"../images/logo_pet.png\" width=\"150px\" align=\"right\">\n",
    "</a>\n",
    "\n",
    "<h1 align=\"center\">\n",
    "    <font color='blue' >\n",
    "        Ambientes Virtuais e a Ferramenta Jupyter Notebook\n",
    "    </font>\n",
    "</h1>\n",
    "\n",
    "<hr width=\"75%\" align=\"center\">"
   ]
  },
  {
   "cell_type": "markdown",
   "metadata": {},
   "source": [
    "<h2 align=\"left\" style=\"color:blue\">\n",
    "    Ambientes Virtuais\n",
    "</h2>\n",
    "\n",
    "<hr align=\"left\" width=\"250px\">"
   ]
  },
  {
   "source": [
    "Ambientes virtuais são indispenáveis para quando é necessário utilizar bibliotecas ou somente algumas bibliotecas no desenvolvimento de um projeto utilizando uma linguagem de programação.\n",
    "\n",
    "Pensando em [todas as bibliotecas existentes](https://pypi.org/) em Python e considerando elas como uma biblioteca central, para o desenvolvimento de uma aplicação utilizando Python, um ambiente virtual pode ser considerado como um apanhado de todos os livros importantes para o que você precisa. Em suma, um ambiente virtual irá reunir exclusivamente aquelas bibliotecas que o desenvolvedor precisará para que sua aplicação funcione corretamente."
   ],
   "cell_type": "markdown",
   "metadata": {}
  },
  {
   "source": [
    "<h3 align=\"left\" style=\"color:blue; margin-left:30px\">\n",
    "    Vantagens em utilizar ambientes virtuais\n",
    "</h3>\n",
    "\n",
    "<hr align=\"left\" width=\"400px\" style=\"margin-left:30px\">\n",
    "\n",
    "* Possibilitam que cada projeto possua um único ambiente independente com um interpretador python e bibliotecas próprios.\n",
    "* Versões diferentes do python e também diferentes versões de bibliotecas para cada projeto.\n",
    "* Com ambientes virtuais é possível reproduzir com maior fidelidade ambientes de execução evitando a famosa frase:\n",
    "\n",
    "> \"No meu computador funciona!\"."
   ],
   "cell_type": "markdown",
   "metadata": {}
  },
  {
   "source": [
    "<h2 align=\"left\" style=\"color:blue\">\n",
    "    Anaconda e ambientes conda\n",
    "</h2>\n",
    "\n",
    "<hr align=\"left\" width=\"250px\">"
   ],
   "cell_type": "markdown",
   "metadata": {}
  },
  {
   "source": [
    "Diversas opções de ferramentas e plataformas para desenvolvimento Python existem atualmente. Contudo, a plataforma mais popular hoje é a Anaconda. Ela é um serviço de gerenciamento de ambientes virtuais de pacotes que buscar facilitar o trablho, compartilhamento e desenvolvimento de projetos em Python.\n",
    "\n",
    "Além disso, contém ferramentas importantes como o [Jupyter Notebook](https://jupyter.org/) e o Spyder, além de um conjunto enorme de pacotes populares para as etapas de Ciência de Dados já instalados ([Numpy](https://numpy.org/), [Pandas](https://pandas.pydata.org/), [Matlibplot](https://matplotlib.org/), etc)."
   ],
   "cell_type": "markdown",
   "metadata": {}
  },
  {
   "source": [
    "<h3 align=\"left\" style=\"color:blue; margin-left:30px\">\n",
    "    Primeiros passos\n",
    "</h3>\n",
    "\n",
    "<hr align=\"left\" width=\"400px\" style=\"margin-left:30px\">\n",
    "\n",
    "Faça o download da plataforma [Anaconda](https://www.anaconda.com/products/individual).\n",
    "\n",
    "Logo após, no processo de instalação, siga os passos do tutorial da própria documentação. Acesse em [anaconda.documentation](https://docs.anaconda.com/anaconda/install/windows/).\n",
    "\n",
    "Quando chegar nessa etapa do processo de instalação, selecione a opção _**Add Anaconda3 to my PATH environment variable**_.\n",
    "\n",
    "<img src=\"../images/anaconda_installing.png\" style=\" margin-left:200px\">"
   ],
   "cell_type": "markdown",
   "metadata": {}
  },
  {
   "source": [
    "<h3 align=\"left\" style=\"color:blue; margin-left:30px\">\n",
    "    Criando um ambiente conda\n",
    "</h3>\n",
    "\n",
    "<hr align=\"left\" width=\"400px\" style=\"margin-left:30px\">\n",
    "\n",
    "Acesse a [documentação](https://docs.conda.io/projects/conda/en/latest/user-guide/tasks/manage-environments.html#activating-an-environment).\n",
    "> `conda create --name <myenv> python=3.x`"
   ],
   "cell_type": "markdown",
   "metadata": {}
  },
  {
   "source": [
    "<h3 align=\"left\" style=\"color:blue; margin-left:30px\">\n",
    "    Ativando o ambiente\n",
    "</h3>\n",
    "\n",
    "<hr align=\"left\" width=\"400px\" style=\"margin-left:30px\">\n",
    "\n",
    "Acesse a [documentação](https://docs.conda.io/projects/conda/en/latest/user-guide/tasks/manage-environments.html#activating-an-environment).\n",
    "> `conda activate <nome_do_ambiente>`"
   ],
   "cell_type": "markdown",
   "metadata": {}
  },
  {
   "source": [
    "<h3 align=\"left\" style=\"color:blue; margin-left:30px\">\n",
    "    Desativando o ambiente\n",
    "</h3>\n",
    "\n",
    "<hr align=\"left\" width=\"400px\" style=\"margin-left:30px\">\n",
    "\n",
    "Acesse a [documentação](https://docs.conda.io/projects/conda/en/latest/user-guide/tasks/manage-environments.html#activating-an-environment).\n",
    "> `conda deactivate`"
   ],
   "cell_type": "markdown",
   "metadata": {}
  },
  {
   "source": [
    "<h3 align=\"left\" style=\"color:blue; margin-left:30px\">\n",
    "    Listando os ambientes existentes na máquina\n",
    "</h3>\n",
    "\n",
    "<hr align=\"left\" width=\"400px\" style=\"margin-left:30px\">\n",
    "\n",
    "Acesse a [documentação](https://docs.conda.io/projects/conda/en/latest/user-guide/tasks/manage-environments.html#activating-an-environment).\n",
    "> `conda env list`\n",
    "\n",
    "> `conda info --envs`"
   ],
   "cell_type": "markdown",
   "metadata": {}
  },
  {
   "source": [
    "<h3 align=\"left\" style=\"color:blue; margin-left:30px\">\n",
    "    Removendo um ambientes existentes na máquina\n",
    "</h3>\n",
    "\n",
    "<hr align=\"left\" width=\"400px\" style=\"margin-left:30px\">\n",
    "\n",
    "Acesse a [documentação](https://docs.conda.io/projects/conda/en/latest/user-guide/tasks/manage-environments.html#activating-an-environment).\n",
    "> `conda remove --name <nome_do_ambiente> --all`"
   ],
   "cell_type": "markdown",
   "metadata": {}
  },
  {
   "source": [
    "<h3 align=\"left\" style=\"color:blue; margin-left:30px\">\n",
    "    Exportando um ambiente em um arquivo .yml\n",
    "</h3>\n",
    "\n",
    "<hr align=\"left\" width=\"400px\" style=\"margin-left:30px\">\n",
    "\n",
    "Acesse a [documentação](https://docs.conda.io/projects/conda/en/latest/user-guide/tasks/manage-environments.html#activating-an-environment).\n",
    "> `conda env export > environment.yml`\n",
    "\n",
    "Exemplo de conteúdo de um arquivo .yml\n",
    "```python\n",
    "name: stats2\n",
    "channels:\n",
    "  - python\n",
    "dependencies:\n",
    "  - python=3.6   # or 2.7\n",
    "  - bokeh=0.9.2\n",
    "  - numpy=1.9.*\n",
    "  - nodejs=0.10.*\n",
    "  - flask\n",
    "  - pip:\n",
    "    - Flask-Testing\n",
    "\n",
    "```"
   ],
   "cell_type": "markdown",
   "metadata": {}
  },
  {
   "source": [
    "<h3 align=\"left\" style=\"color:blue; margin-left:30px\">\n",
    "    Criando um ambiente a partir de um arquivo .yml\n",
    "</h3>\n",
    "\n",
    "<hr align=\"left\" width=\"400px\" style=\"margin-left:30px\">\n",
    "\n",
    "Acesse a [documentação](https://docs.conda.io/projects/conda/en/latest/user-guide/tasks/manage-environments.html#activating-an-environment).\n",
    "> `conda env create -f environment.yml`"
   ],
   "cell_type": "markdown",
   "metadata": {}
  },
  {
   "cell_type": "markdown",
   "metadata": {},
   "source": [
    "<h2 align=\"left\" style=\"color:blue\">\n",
    "    Jupyter Notebook\n",
    "</h2>\n",
    "\n",
    "<hr align=\"left\" width=\"200px\">\n",
    "\n",
    "O [Jupyter Notebook](https://jupyter.org/), que já é instalado com o Anaconda Client, é uma aplicação de código aberto que permite a criação e compartilhamento de projetos com código de programação e texto. Com um Notebook é possível inserir trechos de códigos de diferentes linguagens de programação, tais como Python, R, Scala, e outras dezenas de linguagens, executar os códigos e exibir os resultados.\n",
    "\n",
    "Além disso, há a opção de colocar anotações em texto, criar tabelas e inserir imagens, o que permite documentar o projeto à medida que o código é inserido. A combinação de código executável com a documentação em texto faz dos Notebooks umas excelente ferramenta de experimentação e prototipação, perfeita para projetos de Data Science."
   ]
  },
  {
   "source": [
    "<h3 align=\"left\" style=\"color:blue; margin-left:30px\">\n",
    "    Para saber mais, acesse as documentações abaixo!\n",
    "</h3>\n",
    "\n",
    "<hr align=\"left\" width=\"400px\" style=\"margin-left:30px\">\n",
    "\n",
    "* [The Jupyter Notebook Documentation](https://jupyter-notebook.readthedocs.io/en/stable/)\n",
    "* [Jupyter Notebook Users Manual](https://jupyter.brynmawr.edu/services/public/dblank/Jupyter%20Notebook%20Users%20Manual.ipynb)\n",
    "* [Documentation](https://jupyter.org/documentation)"
   ],
   "cell_type": "markdown",
   "metadata": {}
  },
  {
   "source": [
    "<h3 align=\"left\" style=\"color:blue; margin-left:30px\">\n",
    "    O Jupyter Notebook e seus Componentes\n",
    "</h3>\n",
    "\n",
    "<hr align=\"left\" width=\"400px\" style=\"margin-left:30px\">\n",
    "\n",
    "* **Kernel:** O kernel é um programa responsável por executar o código do seu programa por baixo dos panos. O Jupyter Notebook tem um kernel para código em Python (linguagem de programação que usaremos durante o curso).\n",
    "\n",
    "* **Dashboard:** O dashboard não só é responsável por mostrar os seus _notebook documents_ como também é responsável por gerenciar os kernels.\n",
    "\n",
    "* **Editor de Notebook:** O editor de notebook é responsável por entregar ao usuário a barra de ferramentas para a formatação do documento."
   ],
   "cell_type": "markdown",
   "metadata": {}
  },
  {
   "source": [
    "<h3 align=\"left\" style=\"color:blue; margin-left:30px\">\n",
    "    A Inteface do Editor de Notebook\n",
    "</h3>\n",
    "\n",
    "<hr align=\"left\" width=\"400px\" style=\"margin-left:30px\">\n",
    "\n",
    "<a href=\"https://jupyter-notebook.readthedocs.io/en/stable/ui_components.html\">\n",
    "    <img src=\"../images/notebook_em_branco.png\" width=\"600px\" style=\" margin-left:200px\">\n",
    "</a>"
   ],
   "cell_type": "markdown",
   "metadata": {}
  },
  {
   "source": [
    "<a href=\"https://www.instagram.com/peteletrica/\">\n",
    "    <img src=\"../images/logo_instagram.png\" width=\"50px\" style=\" margin-left:10px\">\n",
    "</a>"
   ],
   "cell_type": "markdown",
   "metadata": {}
  },
  {
   "source": [
    "<a href=\"http://cear.ufpb.br/pet\">\n",
    "    <img src=\"../images/gmail_logo.png\" width=\"70px\">\n",
    "</a>"
   ],
   "cell_type": "markdown",
   "metadata": {}
  },
  {
   "source": [
    "<a href=\"https://www.facebook.com/peteletricaufpb/\">\n",
    "    <img src=\"../images/facebook_logo.png\" width=\"70px\">\n",
    "</a>"
   ],
   "cell_type": "markdown",
   "metadata": {}
  }
 ],
 "metadata": {
  "kernelspec": {
   "display_name": "Python 3.8.5 64-bit",
   "language": "python",
   "name": "python38564bitf10b2531f76f4b47b60f39a7e34cfc98"
  },
  "language_info": {
   "codemirror_mode": {
    "name": "ipython",
    "version": 3
   },
   "file_extension": ".py",
   "mimetype": "text/x-python",
   "name": "python",
   "nbconvert_exporter": "python",
   "pygments_lexer": "ipython3",
   "version": "3.8.5"
  }
 },
 "nbformat": 4,
 "nbformat_minor": 4
}