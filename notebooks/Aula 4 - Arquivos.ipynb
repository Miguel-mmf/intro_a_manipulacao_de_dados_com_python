{
 "cells": [
  {
   "cell_type": "markdown",
   "metadata": {},
   "source": [
    "<a href=\"http://www.cear.ufpb.br/pet\">\n",
    "    <img src=\"../images/logo_pet.png\" width=\"150px\" align=\"right\">\n",
    "</a>\n",
    "\n",
    "<h1 align=\"center\" style=\"color:blue\">Arquivos</h1>\n",
    "\n",
    "<hr width=\"50%\" align=\"center\">"
   ]
  },
  {
   "cell_type": "markdown",
   "metadata": {},
   "source": [
    "<h2 align=\"left\" style=\"color:blue\">\n",
    "    Formato Unicode\n",
    "</h2>\n",
    "\n",
    "<hr align=\"left\" width=\"200px\">"
   ]
  },
  {
   "cell_type": "code",
   "execution_count": null,
   "metadata": {},
   "outputs": [],
   "source": [
    "# Unicode strings\n",
    "print(u'\\u0048\\u0065\\u006C\\u006C\\u006F')"
   ]
  },
  {
   "cell_type": "markdown",
   "metadata": {},
   "source": [
    "<h2 align=\"left\" style=\"color:blue\">\n",
    "    Abrindo Arquivo\n",
    "</h2>\n",
    "\n",
    "<hr align=\"left\" width=\"200px\">"
   ]
  },
  {
   "cell_type": "markdown",
   "metadata": {},
   "source": [
    "```python\n",
    "# Modelo\n",
    "open(\"arquivo\", \"modo\") \n",
    "```"
   ]
  },
  {
   "cell_type": "markdown",
   "metadata": {},
   "source": [
    "<h2 align=\"left\" style=\"color:blue\">\n",
    "    Modo\n",
    "</h2>\n",
    "\n",
    "<hr align=\"left\" width=\"200px\">"
   ]
  },
  {
   "cell_type": "markdown",
   "metadata": {},
   "source": [
    "* **Leitura:** <font color=red> <b>r</b> </font>  \n",
    "* **Escrita:** <font color=red> <b>w</b> </font>  \n",
    "* **Criar arquivo e escrever:** <font color=red><b> x</b> </font>  \n",
    "* **Abrir arquivo e anexar:** <font color=red><b> a</b> </font>  \n",
    "* **Leitura e escrita:** <font color=red><b> + </b></font>  \n",
    "* **Texto:** <font color=red><b> t</b> </font>  \n",
    "* **Binário:** <font color=red><b> b</b> </font>  "
   ]
  },
  {
   "cell_type": "markdown",
   "metadata": {},
   "source": [
    "<h2 align=\"left\" style=\"color:blue\">\n",
    "    Exemplos\n",
    "</h2>\n",
    "\n",
    "<hr align=\"left\" width=\"200px\">"
   ]
  },
  {
   "cell_type": "markdown",
   "metadata": {},
   "source": [
    "__Abrir arquivo para leitura__\n",
    "```python\n",
    "# Arquivo de texto\n",
    "f = open(\"arquivo\", \"r\")\n",
    "f = open(\"arquivo\", \"rt\")\n",
    "\n",
    "# Arquivo binário\n",
    "f = open(\"arquivo\", \"rb\")\n",
    "```\n",
    "__Abrir arquivo para escrita__\n",
    "```python\n",
    "f = open(\"arquivo\",\"wt\")\n",
    "```\n",
    "\n",
    "__Criar novo arquivo__\n",
    "```python\n",
    "f = open(\"arquivo\",\"xt\")\n",
    "```\n",
    "\n",
    "__Fechar arquivo__\n",
    "```python\n",
    "f = open(\"arquivo\",\"rt\")\n",
    "\n",
    "# Fechando\n",
    "f.close()\n",
    "```"
   ]
  },
  {
   "cell_type": "markdown",
   "metadata": {},
   "source": [
    "<h2 align=\"left\" style=\"color:blue\">\n",
    "    Arquivos <code style=\"color:blue\">.txt</code>\n",
    "</h2>\n",
    "\n",
    "<hr align=\"left\" width=\"200px\">"
   ]
  },
  {
   "cell_type": "markdown",
   "metadata": {},
   "source": [
    "<h3 align=\"left\" style=\"color:blue; margin-left:30px\">\n",
    "    Lendo arquivos <code style=\"color:blue\">.txt</code>\n",
    "</h3>"
   ]
  },
  {
   "cell_type": "code",
   "execution_count": null,
   "metadata": {},
   "outputs": [],
   "source": [
    "# Abrindo o arquivo no modo para leitura\n",
    "arquivo1 = open(\"arquivos/aula_4.txt\", \"r\")"
   ]
  },
  {
   "cell_type": "code",
   "execution_count": null,
   "metadata": {},
   "outputs": [],
   "source": [
    "# Visualizando o conteúdo do arquivo\n",
    "print(arquivo1)"
   ]
  },
  {
   "cell_type": "code",
   "execution_count": null,
   "metadata": {},
   "outputs": [],
   "source": [
    "# Contar o número de caracteres\n",
    "print(arquivo1.tell())"
   ]
  },
  {
   "cell_type": "code",
   "execution_count": null,
   "metadata": {},
   "outputs": [],
   "source": [
    "# Retornar para o iníco do arquivo\n",
    "print(arquivo1.seek(0,0))"
   ]
  },
  {
   "cell_type": "code",
   "execution_count": null,
   "metadata": {},
   "outputs": [],
   "source": [
    "# Ler os primeiros 10 caracteres\n",
    "print(arquivo1.read(10))"
   ]
  },
  {
   "cell_type": "markdown",
   "metadata": {},
   "source": [
    "<h3 align=\"left\" style=\"color:blue; margin-left:30px\">\n",
    "    Gravando arquivos <code style=\"color:blue\">.txt</code>\n",
    "</h3>"
   ]
  },
  {
   "cell_type": "code",
   "execution_count": null,
   "metadata": {},
   "outputs": [],
   "source": [
    "# Abrindo arquivo no modo para gravação\n",
    "arquivo2 = open(\"arquivos/aula_4.txt\", \"w\")"
   ]
  },
  {
   "cell_type": "code",
   "execution_count": null,
   "metadata": {},
   "outputs": [],
   "source": [
    "# Como abrimos o arquivo apenas para gravação, não podemos usar comandos de leitura.\n",
    "print(arquivo2.read())"
   ]
  },
  {
   "cell_type": "code",
   "execution_count": null,
   "metadata": {},
   "outputs": [],
   "source": [
    "# Gravando arquivo\n",
    "arquivo2.write(\"Testando gravação de arquivos em Python \")"
   ]
  },
  {
   "cell_type": "code",
   "execution_count": null,
   "metadata": {},
   "outputs": [],
   "source": [
    "# Contar o número de caracteres\n",
    "print(arquivo1.tell())"
   ]
  },
  {
   "cell_type": "code",
   "execution_count": null,
   "metadata": {},
   "outputs": [],
   "source": [
    "arquivo2.close()"
   ]
  },
  {
   "cell_type": "markdown",
   "metadata": {},
   "source": [
    "<h2 align=\"left\" style=\"color:blue\">\n",
    "    Arquivos <code style=\"color:blue\">.csv</code>\n",
    "</h2>\n",
    "\n",
    "<hr align=\"left\" width=\"200px\">"
   ]
  },
  {
   "cell_type": "markdown",
   "metadata": {},
   "source": [
    "<h3 align=\"left\" style=\"color:blue; margin-left:30px\">\n",
    "    Abrindo um dataset em uma única linha\n",
    "</h3>"
   ]
  },
  {
   "cell_type": "markdown",
   "metadata": {},
   "source": [
    "Faça download do arquivo clicando [aqui](https://superset.plataformatarget.com.br/superset/dashboard/55/). Este arquivo foi obtido no site de dados abertos do [governo da Paraíba](https://paraiba.pb.gov.br/)."
   ]
  },
  {
   "cell_type": "code",
   "execution_count": null,
   "metadata": {},
   "outputs": [],
   "source": [
    "arquivo_csv = open('../datasets/boletim_diario.csv', 'r')"
   ]
  },
  {
   "cell_type": "code",
   "execution_count": null,
   "metadata": {},
   "outputs": [],
   "source": [
    "print(arquivo_csv.read())"
   ]
  },
  {
   "cell_type": "markdown",
   "metadata": {},
   "source": [
    "<h2 align=\"left\" style=\"color:blue\">\n",
    "    Arquivos <code style=\"color:blue\">.json</code>\n",
    "</h2>\n",
    "\n",
    "<hr align=\"left\" width=\"200px\">"
   ]
  },
  {
   "cell_type": "markdown",
   "metadata": {},
   "source": [
    "<h3 align=\"left\" style=\"color:blue; margin-left:30px\">\n",
    "    JSON para dicionário\n",
    "</h3>"
   ]
  },
  {
   "cell_type": "code",
   "execution_count": null,
   "metadata": {},
   "outputs": [],
   "source": [
    "# Importação do módulo built-in\n",
    "import json"
   ]
  },
  {
   "cell_type": "code",
   "execution_count": null,
   "metadata": {},
   "outputs": [],
   "source": [
    "# Transformando uma String JSON em dicionário\n",
    "stringJson = '{\"nome\":\"João\", \"curso\": \"Engenharia Elétrica\", \"habilidades\": [\"Data Science com Python\", \"Programação em C\", \"Eletrônica embarcada\"]}'\n",
    "\n",
    "pythonDict = json.loads(stringJson)\n",
    "\n",
    "print(pythonDict)\n",
    "print(f'\\nO nome do aluno é: {pythonDict[\"nome\"]}')"
   ]
  },
  {
   "cell_type": "code",
   "execution_count": null,
   "metadata": {},
   "outputs": [],
   "source": [
    "# Lendo arquivos JSON através do método load()\n",
    "arquivoJson = open('./arquivos/exampleJsonFile.json', 'r')\n",
    "\n",
    "pythonFileDict = json.load(arquivoJson)\n",
    "\n",
    "print(pythonFileDict)\n",
    "\n",
    "print(f\"\\nO nome do primeiro aluno é: {pythonFileDict['alunos'][0]['nome']}\")\n",
    "\n",
    "arquivoJson.close()"
   ]
  },
  {
   "cell_type": "code",
   "execution_count": null,
   "metadata": {
    "scrolled": true
   },
   "outputs": [],
   "source": [
    "# Lendo arquivos JSON através do método loads()\n",
    "arquivoJson = open('./arquivos/exampleJsonFile.json', 'r')\n",
    "\n",
    "pythonFileDict = json.loads(arquivoJson.read())\n",
    "\n",
    "print(pythonFileDict)\n",
    "\n",
    "print(f\"\\nO nome do primeiro aluno é: {pythonFileDict['alunos'][0]['nome']}\")\n",
    "\n",
    "arquivoJson.close()"
   ]
  },
  {
   "cell_type": "markdown",
   "metadata": {},
   "source": [
    "<h3 align=\"left\" style=\"color:blue; margin-left:30px\">\n",
    "    Dicionário para JSON\n",
    "</h3>"
   ]
  },
  {
   "cell_type": "code",
   "execution_count": null,
   "metadata": {},
   "outputs": [],
   "source": [
    "# Transformando um dicionário em arquivo .json através do método dump()\n",
    "dictToJsonData = {'nome': 'João', 'curso': 'Engenharia Elétrica', 'habilidades': ['Data Science com Python', 'Programação em C', 'Eletrônica embarcada']}\n",
    "\n",
    "dictToJsonFile = open('./arquivos/dictToJsonFile.json', 'w')\n",
    "\n",
    "json.dump(dictToJsonData, dictToJsonFile, ensure_ascii=False)\n",
    "\n",
    "dictToJsonFile.close()"
   ]
  },
  {
   "cell_type": "code",
   "execution_count": null,
   "metadata": {},
   "outputs": [],
   "source": [
    "# Transformando um dicionário em arquivo .json através do método dumps()\n",
    "dictToJsonData = {'nome': 'João', 'curso': 'Engenharia Elétrica', 'habilidades': ['Data Science com Python', 'Programação em C', 'Eletrônica embarcada']}\n",
    "\n",
    "dictToJsonFile = open('./arquivos/dictToJsonFile.json', 'w')\n",
    "\n",
    "# ensure_ascii=True por default\n",
    "jsonString = json.dumps(dictToJsonData)\n",
    "\n",
    "dictToJsonFile.write(jsonString)\n",
    "\n",
    "dictToJsonFile.close()"
   ]
  },
  {
   "cell_type": "markdown",
   "metadata": {},
   "source": [
    "<div>\n",
    "    <a href=\"https://www.ufpb.br/\">\n",
    "        <img src=\"../images/logo_ufpb.png\" align=\"left\" height=\"50px\" width=\"70px\">\n",
    "    </a>\n",
    "    <a href=\"http://www.cear.ufpb.br/\">\n",
    "        <img src=\"../images/logo_cear.png\" align=\"left\" width=\"95px\">\n",
    "    </a>\n",
    "</div>"
   ]
  }
 ],
 "metadata": {
  "kernelspec": {
   "display_name": "Python 3",
   "language": "python",
   "name": "python3"
  },
  "language_info": {
   "codemirror_mode": {
    "name": "ipython",
    "version": 3
   },
   "file_extension": ".py",
   "mimetype": "text/x-python",
   "name": "python",
   "nbconvert_exporter": "python",
   "pygments_lexer": "ipython3",
   "version": "3.7.0"
  }
 },
 "nbformat": 4,
 "nbformat_minor": 4
}
