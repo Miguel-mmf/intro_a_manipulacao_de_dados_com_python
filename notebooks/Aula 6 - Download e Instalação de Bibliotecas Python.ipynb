{
 "cells": [
  {
   "cell_type": "markdown",
   "metadata": {},
   "source": [
    "<a href=\"http://www.cear.ufpb.br/pet\">\n",
    "    <img src=\"../images/logo_pet.png\" width=\"150px\" align=\"right\">\n",
    "</a>\n",
    "\n",
    "<h1 align=\"center\" style=\"color:blue\">Download e Instalação de Bibliotecas Python</h1>\n",
    "\n",
    "<hr width=\"75%\" align=\"center\">"
   ]
  },
  {
   "cell_type": "markdown",
   "metadata": {},
   "source": [
    "<h2 align=\"left\" style=\"color:blue\">\n",
    "    Abrindo o Ambiente Virtual\n",
    "</h2>\n",
    "\n",
    "<hr align=\"left\" width=\"400px\">"
   ]
  },
  {
   "source": [
    "Acesse a [documentação](https://docs.conda.io/projects/conda/en/latest/user-guide/tasks/manage-environments.html#activating-an-environment).\n",
    "> `conda activate <nome_do_ambiente>`"
   ],
   "cell_type": "markdown",
   "metadata": {}
  },
  {
   "cell_type": "markdown",
   "metadata": {},
   "source": [
    "<h2 align=\"left\" style=\"color:blue\">\n",
    "    Bibliotecas Existentes\n",
    "</h2>\n",
    "\n",
    "<hr align=\"left\" width=\"400px\">"
   ]
  },
  {
   "source": [
    "<h3 align=\"left\" style=\"color:blue; margin-left:30px\">\n",
    "    Utilizando o interpretador Python\n",
    "</h3>\n",
    "<hr align=\"left\" width=\"300px\" style=\"margin-left:30px\">\n",
    "\n",
    "Com o interpretador Python ativado no seu prompt de comando (para ativar é necessário somente escrever python), faça:\n",
    "```python\n",
    "import nome do pacote\n",
    "print(nome do pacote.__version__)\n",
    "```\n",
    "\n",
    "<h3 align=\"left\" style=\"color:blue; margin-left:30px\">\n",
    "    Utilizando o pip\n",
    "</h3>\n",
    "<hr align=\"left\" width=\"300px\" style=\"margin-left:30px\">\n",
    "\n",
    "Esse comando apresenta todos os pacotes existentes em sua máquina, porém sem a versão desses.\n",
    "\n",
    "> pip freeze\n",
    "\n",
    "Esse comando irá retornar uma lista com todos os pacotes existentes em sua máquina e com suas respectivas versões.\n",
    "\n",
    "> pip list\n",
    "\n",
    "Obs.: _Sugiro que faça isso para conferir a versão de cada pacote e caso algum esteja desatualizado, atualize com:_\n",
    "\n",
    "> pip install nome do pacote == versão"
   ],
   "cell_type": "markdown",
   "metadata": {}
  },
  {
   "cell_type": "markdown",
   "metadata": {},
   "source": [
    "<h2 align=\"left\" style=\"color:blue\">\n",
    "    Download e Instalação das Bibliotecas\n",
    "</h2>\n",
    "\n",
    "<hr align=\"left\" width=\"400px\">"
   ]
  },
  {
   "source": [
    "Para o processo de instalação é necessário que você tenha o Python 3.8 ou uma versão mais recente instalado em sua máquina.\n",
    "\n",
    "<h3 align=\"left\" style=\"color:blue; margin-left:30px\">\n",
    "    Pacotes e Versões\n",
    "</h3>\n",
    "<hr align=\"left\" width=\"300px\" style=\"margin-left:30px\">\n",
    "\n",
    "* [Numpy](https://numpy.org/) - `versão == 1.20.0`\n",
    "\n",
    "* [Pandas](https://pandas.pydata.org/) - `versão == 1.2.1`\n",
    "\n",
    "* [Matplotlib](https://matplotlib.org/) - `versão == 3.3.4`"
   ],
   "cell_type": "markdown",
   "metadata": {}
  },
  {
   "source": [
    "<h3 align=\"left\" style=\"color:blue; margin-left:30px\">\n",
    "    Download e instalação utilizando pip e conda\n",
    "</h3>\n",
    "<hr align=\"left\" width=\"300px\" style=\"margin-left:30px\">\n",
    "\n",
    "**Obs.:** _Caso você não especifique a versão que deseja instalar, utilizando o pip ou o conda, pode ser que esse gerenciador de pacotes instale uma versão diferente na sua máquina e, assim, ocasione problemas para desenvolver alguma aplicação._\n",
    "\n",
    "> `conda install numpy` ou `pip install numpy`\n",
    "\n",
    "> `conda install pandas` ou `pip install pandas`\n",
    "\n",
    "> `conda install matplotlib` ou `pip install matplotlib`"
   ],
   "cell_type": "markdown",
   "metadata": {}
  },
  {
   "source": [
    "<h3 align=\"left\" style=\"color:blue; margin-left:30px\">\n",
    "    Instalando pacotes com um arquivo requirements.txt\n",
    "</h3>\n",
    "<hr align=\"left\" width=\"300px\" style=\"margin-left:30px\">\n",
    "\n",
    "* `pip install -r requirements.txt`"
   ],
   "cell_type": "markdown",
   "metadata": {}
  },
  {
   "source": [
    "<h2 align=\"left\" style=\"color:blue\">\n",
    "    Exportando as Dependências\n",
    "</h2>\n",
    "\n",
    "<hr align=\"left\" width=\"400px\">\n",
    "\n",
    "As dependências de um projeto são as bibliotecas utilizadas durante o seu desenvolvimento, as quais estão num ambiente virtual de desenvolvimento.\n",
    "\n",
    "É uma boa prática deixar um ambiente reservado para cada projeto que esteja desenvolvendo, o que evita utilizar bibliotecas desnecessárias no seu ambiente virtual."
   ],
   "cell_type": "markdown",
   "metadata": {}
  },
  {
   "cell_type": "code",
   "execution_count": null,
   "metadata": {},
   "outputs": [],
   "source": [
    "pip freeze > requirements.txt"
   ]
  }
 ],
 "metadata": {
  "kernelspec": {
   "display_name": "Python 3.8.5 64-bit",
   "language": "python",
   "name": "python38564bitf10b2531f76f4b47b60f39a7e34cfc98"
  },
  "language_info": {
   "codemirror_mode": {
    "name": "ipython",
    "version": 3
   },
   "file_extension": ".py",
   "mimetype": "text/x-python",
   "name": "python",
   "nbconvert_exporter": "python",
   "pygments_lexer": "ipython3",
   "version": "3.8.5"
  }
 },
 "nbformat": 4,
 "nbformat_minor": 4
}
