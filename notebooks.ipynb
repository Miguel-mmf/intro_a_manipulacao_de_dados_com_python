{
 "cells": [
  {
   "cell_type": "markdown",
   "metadata": {},
   "source": [
    "<a href=\"http://www.cear.ufpb.br/pet\" >\n",
    "    <img src=\"../images/logo_pet.png\" width=\"150px\" align=\"right\">\n",
    "</a>\n",
    "\n",
    "<h1 align=\"center\" style=\"color:blue\" >Biblioteca Pandas em Python</h1>\n",
    "\n",
    "<hr width=\"50%\" align=\"center\">"
   ]
  },
  {
   "cell_type": "markdown",
   "metadata": {},
   "source": [
    "<h2 align=\"left\" style=\"color:blue\" >\n",
    "    Essa biblioteca é a porta de entrada para os estudos que envolvem a Ciência de Dados. \n",
    "</h2>\n",
    "\n",
    "\n",
    "<h3 align=\"left\" style=\"color:blue\" >\n",
    " Permite ler, manipular, agregar e plotar os dados em poucos passos.   \n",
    "</h3>\n",
    "<hr align=\"left\" width=\"200px\">\n",
    "\n"
   ]
  },
  {
   "cell_type": "markdown",
   "metadata": {},
   "source": [
    "<h3 align=\"left\" style=\"color:blue\" >\n",
    "    A biblioteca fornece duas maneiras de estruturar os nossos dados:\n",
    "<h3>\n",
    "<hr align=\"left\" width=\"200px\">"
   ]
  },
  {
   "cell_type": "markdown",
   "metadata": {},
   "source": [
    "> O __DataFrame__ que possui uma estrutura tabular de N-dimensões, se assemelha a uma tabela no excel, onde seus itens são endereçados segundo linhas e colunas.\n",
    "\n",
    "> A __Series__ que é uma matriz unidimensional que contém uma sequencia de valores acompanhado de seus respectivos índices.\n",
    "\n",
    "Vamos observar cada uma delas."
   ]
  },
  {
   "cell_type": "markdown",
   "metadata": {},
   "source": [
    "<h3 align=\"left\" style=\"color:blue\" >\n",
    "    Importando bibliotecas\n",
    "<h3>\n",
    "<hr align=\"left\" width=\"200px\">"
   ]
  },
  {
   "cell_type": "code",
   "execution_count": 30,
   "metadata": {},
   "outputs": [],
   "source": [
    "import pandas as pd\n",
    "#Biblioteca suporte\n",
    "import numpy as np\n"
   ]
  },
  {
   "cell_type": "markdown",
   "metadata": {},
   "source": [
    "<h3 align=\"left\" style=\"color:blue\" >\n",
    "   Criando series\n",
    "<h3>\n",
    "<hr align=\"left\" width=\"200px\">"
   ]
  },
  {
   "cell_type": "code",
   "execution_count": 31,
   "metadata": {},
   "outputs": [
    {
     "data": {
      "text/plain": [
       "array([ 0, 10, 20, 30])"
      ]
     },
     "execution_count": 31,
     "metadata": {},
     "output_type": "execute_result"
    }
   ],
   "source": [
    "labels = [\"A\",\"B\",\"C\",\"D\"]\n",
    "array = np.arange(4)*10\n",
    "array"
   ]
  },
  {
   "cell_type": "code",
   "execution_count": 32,
   "metadata": {},
   "outputs": [
    {
     "data": {
      "text/plain": [
       "A     0\n",
       "B    10\n",
       "C    20\n",
       "D    30\n",
       "dtype: int32"
      ]
     },
     "execution_count": 32,
     "metadata": {},
     "output_type": "execute_result"
    }
   ],
   "source": [
    "pd.Series(data =array, index = labels )"
   ]
  },
  {
   "cell_type": "code",
   "execution_count": 33,
   "metadata": {},
   "outputs": [
    {
     "data": {
      "text/plain": [
       "A    Minicurso\n",
       "B       Python\n",
       "C       Online\n",
       "D       Pandas\n",
       "dtype: object"
      ]
     },
     "execution_count": 33,
     "metadata": {},
     "output_type": "execute_result"
    }
   ],
   "source": [
    "lista = [\"Minicurso\",\"Python\",\"Online\",\"Pandas\"]\n",
    "pd.Series(data =lista, index = labels )"
   ]
  },
  {
   "cell_type": "markdown",
   "metadata": {},
   "source": [
    "__Caso não declarado o indice é gerado automaticamente seguindo a ordem crescente__"
   ]
  },
  {
   "cell_type": "code",
   "execution_count": 34,
   "metadata": {},
   "outputs": [
    {
     "data": {
      "text/plain": [
       "0    Minicurso\n",
       "1       Python\n",
       "2       Online\n",
       "3       Pandas\n",
       "dtype: object"
      ]
     },
     "execution_count": 34,
     "metadata": {},
     "output_type": "execute_result"
    }
   ],
   "source": [
    "pd.Series(data = lista)"
   ]
  },
  {
   "cell_type": "code",
   "execution_count": 35,
   "metadata": {},
   "outputs": [
    {
     "data": {
      "text/plain": [
       "A        Amor\n",
       "B    Baixinho\n",
       "dtype: object"
      ]
     },
     "execution_count": 35,
     "metadata": {},
     "output_type": "execute_result"
    }
   ],
   "source": [
    "d = {\"A\":\"Amor\",\"B\":\"Baixinho\"}\n",
    "pd.Series(data = d)"
   ]
  },
  {
   "cell_type": "markdown",
   "metadata": {},
   "source": [
    "__Uma series pode conter diferentes ditos de elementos__"
   ]
  },
  {
   "cell_type": "code",
   "execution_count": 36,
   "metadata": {},
   "outputs": [
    {
     "name": "stdout",
     "output_type": "stream",
     "text": [
      "City        João Pessoa\n",
      "Pop             800.323\n",
      "Seadside           True\n",
      "dtype: object\n",
      "\n",
      "City         Sousa\n",
      "Seadside     False\n",
      "Pop         69.723\n",
      "dtype: object\n"
     ]
    }
   ],
   "source": [
    "Serie = pd.Series({\"City\":'João Pessoa',\"Pop\": 800.323,\"Seadside\": True})\n",
    "Serie2 = pd.Series({\"City\":'Sousa',\"Seadside\": False,\"Pop\": 69.723})\n",
    "print(Serie)\n",
    "print( )\n",
    "print(Serie2)"
   ]
  },
  {
   "cell_type": "markdown",
   "metadata": {},
   "source": [
    "__Duas series soman-se indice a indice, mesmo que estejam desordenados__"
   ]
  },
  {
   "cell_type": "code",
   "execution_count": 37,
   "metadata": {},
   "outputs": [
    {
     "data": {
      "text/plain": [
       "City        João PessoaSousa\n",
       "Pop                  870.046\n",
       "Seadside                   1\n",
       "dtype: object"
      ]
     },
     "execution_count": 37,
     "metadata": {},
     "output_type": "execute_result"
    }
   ],
   "source": [
    "Serie + Serie2"
   ]
  },
  {
   "cell_type": "code",
   "execution_count": 38,
   "metadata": {},
   "outputs": [
    {
     "name": "stdout",
     "output_type": "stream",
     "text": [
      "Arroz      2\n",
      "Feijão     3\n",
      "Queijo     6\n",
      "Tapioca    4\n",
      "dtype: int64\n",
      "\n",
      "Queijo     9\n",
      "Feijão     1\n",
      "Tapioca    7\n",
      "Pão        3\n",
      "dtype: int64\n"
     ]
    }
   ],
   "source": [
    "itens1 = pd.Series(data = [2,3,6,4], index = [\"Arroz\",\"Feijão\",\"Queijo\",\"Tapioca\"])\n",
    "itens2 = pd.Series(data = [9,1,7,3], index = [\"Queijo\",\"Feijão\",\"Tapioca\",\"Pão\"])\n",
    "print(itens1)\n",
    "print()\n",
    "print(itens2)\n"
   ]
  },
  {
   "cell_type": "markdown",
   "metadata": {},
   "source": [
    "__Caso não encontrado o indice é retornado \"nan\"__"
   ]
  },
  {
   "cell_type": "code",
   "execution_count": 39,
   "metadata": {},
   "outputs": [
    {
     "data": {
      "text/plain": [
       "Arroz       NaN\n",
       "Feijão      4.0\n",
       "Pão         NaN\n",
       "Queijo     15.0\n",
       "Tapioca    11.0\n",
       "dtype: float64"
      ]
     },
     "execution_count": 39,
     "metadata": {},
     "output_type": "execute_result"
    }
   ],
   "source": [
    "itens1+itens2"
   ]
  },
  {
   "cell_type": "markdown",
   "metadata": {},
   "source": [
    "<h3 align=\"left\" style=\"color:blue\" >\n",
    "   Criando Dataframes\n",
    "<h3>\n",
    "<hr align=\"left\" width=\"200px\">"
   ]
  },
  {
   "cell_type": "code",
   "execution_count": 40,
   "metadata": {},
   "outputs": [
    {
     "data": {
      "text/html": [
       "<div>\n",
       "<style scoped>\n",
       "    .dataframe tbody tr th:only-of-type {\n",
       "        vertical-align: middle;\n",
       "    }\n",
       "\n",
       "    .dataframe tbody tr th {\n",
       "        vertical-align: top;\n",
       "    }\n",
       "\n",
       "    .dataframe thead th {\n",
       "        text-align: right;\n",
       "    }\n",
       "</style>\n",
       "<table border=\"1\" class=\"dataframe\">\n",
       "  <thead>\n",
       "    <tr style=\"text-align: right;\">\n",
       "      <th></th>\n",
       "      <th>A</th>\n",
       "      <th>B</th>\n",
       "      <th>C</th>\n",
       "      <th>D</th>\n",
       "    </tr>\n",
       "  </thead>\n",
       "  <tbody>\n",
       "    <tr>\n",
       "      <th>P</th>\n",
       "      <td>1</td>\n",
       "      <td>2</td>\n",
       "      <td>3</td>\n",
       "      <td>4</td>\n",
       "    </tr>\n",
       "    <tr>\n",
       "      <th>A</th>\n",
       "      <td>5</td>\n",
       "      <td>6</td>\n",
       "      <td>7</td>\n",
       "      <td>8</td>\n",
       "    </tr>\n",
       "    <tr>\n",
       "      <th>N</th>\n",
       "      <td>9</td>\n",
       "      <td>10</td>\n",
       "      <td>11</td>\n",
       "      <td>12</td>\n",
       "    </tr>\n",
       "    <tr>\n",
       "      <th>D</th>\n",
       "      <td>13</td>\n",
       "      <td>14</td>\n",
       "      <td>15</td>\n",
       "      <td>16</td>\n",
       "    </tr>\n",
       "    <tr>\n",
       "      <th>A</th>\n",
       "      <td>17</td>\n",
       "      <td>18</td>\n",
       "      <td>19</td>\n",
       "      <td>20</td>\n",
       "    </tr>\n",
       "    <tr>\n",
       "      <th>S</th>\n",
       "      <td>21</td>\n",
       "      <td>22</td>\n",
       "      <td>23</td>\n",
       "      <td>24</td>\n",
       "    </tr>\n",
       "  </tbody>\n",
       "</table>\n",
       "</div>"
      ],
      "text/plain": [
       "    A   B   C   D\n",
       "P   1   2   3   4\n",
       "A   5   6   7   8\n",
       "N   9  10  11  12\n",
       "D  13  14  15  16\n",
       "A  17  18  19  20\n",
       "S  21  22  23  24"
      ]
     },
     "execution_count": 40,
     "metadata": {},
     "output_type": "execute_result"
    }
   ],
   "source": [
    "df = pd.DataFrame(data = np.arange(1,25).reshape(6,4), index = 'P A N D A S'.split(), columns =['A','B','C','D'] )\n",
    "df"
   ]
  },
  {
   "cell_type": "markdown",
   "metadata": {},
   "source": [
    "__Quando um dicionanrio é utilizado nesse caso as chaves tornam - se colunas__"
   ]
  },
  {
   "cell_type": "code",
   "execution_count": 41,
   "metadata": {},
   "outputs": [],
   "source": [
    "Dict = { \"X\" :[0.1,3.2,4.5], \"Y\" :[2.4,5.6,2.2]}"
   ]
  },
  {
   "cell_type": "code",
   "execution_count": 42,
   "metadata": {},
   "outputs": [
    {
     "data": {
      "text/html": [
       "<div>\n",
       "<style scoped>\n",
       "    .dataframe tbody tr th:only-of-type {\n",
       "        vertical-align: middle;\n",
       "    }\n",
       "\n",
       "    .dataframe tbody tr th {\n",
       "        vertical-align: top;\n",
       "    }\n",
       "\n",
       "    .dataframe thead th {\n",
       "        text-align: right;\n",
       "    }\n",
       "</style>\n",
       "<table border=\"1\" class=\"dataframe\">\n",
       "  <thead>\n",
       "    <tr style=\"text-align: right;\">\n",
       "      <th></th>\n",
       "      <th>X</th>\n",
       "      <th>Y</th>\n",
       "    </tr>\n",
       "  </thead>\n",
       "  <tbody>\n",
       "    <tr>\n",
       "      <th>A</th>\n",
       "      <td>0.1</td>\n",
       "      <td>2.4</td>\n",
       "    </tr>\n",
       "    <tr>\n",
       "      <th>B</th>\n",
       "      <td>3.2</td>\n",
       "      <td>5.6</td>\n",
       "    </tr>\n",
       "    <tr>\n",
       "      <th>C</th>\n",
       "      <td>4.5</td>\n",
       "      <td>2.2</td>\n",
       "    </tr>\n",
       "  </tbody>\n",
       "</table>\n",
       "</div>"
      ],
      "text/plain": [
       "     X    Y\n",
       "A  0.1  2.4\n",
       "B  3.2  5.6\n",
       "C  4.5  2.2"
      ]
     },
     "execution_count": 42,
     "metadata": {},
     "output_type": "execute_result"
    }
   ],
   "source": [
    "df = pd.DataFrame(data = Dict, index = [\"A\",\"B\",\"C\"])\n",
    "df"
   ]
  },
  {
   "cell_type": "markdown",
   "metadata": {},
   "source": [
    "<h3 align=\"left\" style=\"color:blue\" >\n",
    "   Ler dados tabulados externos\n",
    "<h3>\n",
    "<hr align=\"left\" width=\"200px\">"
   ]
  },
  {
   "cell_type": "code",
   "execution_count": 48,
   "metadata": {},
   "outputs": [
    {
     "data": {
      "text/html": [
       "<div>\n",
       "<style scoped>\n",
       "    .dataframe tbody tr th:only-of-type {\n",
       "        vertical-align: middle;\n",
       "    }\n",
       "\n",
       "    .dataframe tbody tr th {\n",
       "        vertical-align: top;\n",
       "    }\n",
       "\n",
       "    .dataframe thead th {\n",
       "        text-align: right;\n",
       "    }\n",
       "</style>\n",
       "<table border=\"1\" class=\"dataframe\">\n",
       "  <thead>\n",
       "    <tr style=\"text-align: right;\">\n",
       "      <th></th>\n",
       "      <th>data</th>\n",
       "      <th>casosAcumulados</th>\n",
       "      <th>casosNovos</th>\n",
       "      <th>descartados</th>\n",
       "      <th>recuperados</th>\n",
       "      <th>obitosAcumulados</th>\n",
       "      <th>obitosNovos</th>\n",
       "      <th>Letalidade</th>\n",
       "    </tr>\n",
       "  </thead>\n",
       "  <tbody>\n",
       "    <tr>\n",
       "      <th>0</th>\n",
       "      <td>2021-01-22</td>\n",
       "      <td>181773</td>\n",
       "      <td>1309</td>\n",
       "      <td>229721</td>\n",
       "      <td>138676</td>\n",
       "      <td>3955</td>\n",
       "      <td>16</td>\n",
       "      <td>0.0218</td>\n",
       "    </tr>\n",
       "    <tr>\n",
       "      <th>1</th>\n",
       "      <td>2021-01-21</td>\n",
       "      <td>180464</td>\n",
       "      <td>1111</td>\n",
       "      <td>229281</td>\n",
       "      <td>138673</td>\n",
       "      <td>3939</td>\n",
       "      <td>13</td>\n",
       "      <td>0.0218</td>\n",
       "    </tr>\n",
       "    <tr>\n",
       "      <th>2</th>\n",
       "      <td>2021-01-20</td>\n",
       "      <td>179353</td>\n",
       "      <td>1272</td>\n",
       "      <td>228228</td>\n",
       "      <td>138664</td>\n",
       "      <td>3926</td>\n",
       "      <td>14</td>\n",
       "      <td>0.0219</td>\n",
       "    </tr>\n",
       "    <tr>\n",
       "      <th>3</th>\n",
       "      <td>2021-01-19</td>\n",
       "      <td>178081</td>\n",
       "      <td>238</td>\n",
       "      <td>228046</td>\n",
       "      <td>133894</td>\n",
       "      <td>3912</td>\n",
       "      <td>10</td>\n",
       "      <td>0.0220</td>\n",
       "    </tr>\n",
       "    <tr>\n",
       "      <th>4</th>\n",
       "      <td>2021-01-18</td>\n",
       "      <td>177843</td>\n",
       "      <td>225</td>\n",
       "      <td>227850</td>\n",
       "      <td>133463</td>\n",
       "      <td>3902</td>\n",
       "      <td>14</td>\n",
       "      <td>0.0219</td>\n",
       "    </tr>\n",
       "    <tr>\n",
       "      <th>...</th>\n",
       "      <td>...</td>\n",
       "      <td>...</td>\n",
       "      <td>...</td>\n",
       "      <td>...</td>\n",
       "      <td>...</td>\n",
       "      <td>...</td>\n",
       "      <td>...</td>\n",
       "      <td>...</td>\n",
       "    </tr>\n",
       "    <tr>\n",
       "      <th>308</th>\n",
       "      <td>2020-03-20</td>\n",
       "      <td>0</td>\n",
       "      <td>0</td>\n",
       "      <td>0</td>\n",
       "      <td>0</td>\n",
       "      <td>0</td>\n",
       "      <td>0</td>\n",
       "      <td>0.0000</td>\n",
       "    </tr>\n",
       "    <tr>\n",
       "      <th>309</th>\n",
       "      <td>2020-03-19</td>\n",
       "      <td>0</td>\n",
       "      <td>0</td>\n",
       "      <td>0</td>\n",
       "      <td>0</td>\n",
       "      <td>0</td>\n",
       "      <td>0</td>\n",
       "      <td>0.0000</td>\n",
       "    </tr>\n",
       "    <tr>\n",
       "      <th>310</th>\n",
       "      <td>2020-03-18</td>\n",
       "      <td>0</td>\n",
       "      <td>0</td>\n",
       "      <td>0</td>\n",
       "      <td>0</td>\n",
       "      <td>0</td>\n",
       "      <td>0</td>\n",
       "      <td>0.0000</td>\n",
       "    </tr>\n",
       "    <tr>\n",
       "      <th>311</th>\n",
       "      <td>2020-03-17</td>\n",
       "      <td>0</td>\n",
       "      <td>0</td>\n",
       "      <td>0</td>\n",
       "      <td>0</td>\n",
       "      <td>0</td>\n",
       "      <td>0</td>\n",
       "      <td>0.0000</td>\n",
       "    </tr>\n",
       "    <tr>\n",
       "      <th>312</th>\n",
       "      <td>2020-03-16</td>\n",
       "      <td>0</td>\n",
       "      <td>0</td>\n",
       "      <td>0</td>\n",
       "      <td>0</td>\n",
       "      <td>0</td>\n",
       "      <td>0</td>\n",
       "      <td>0.0000</td>\n",
       "    </tr>\n",
       "  </tbody>\n",
       "</table>\n",
       "<p>313 rows × 8 columns</p>\n",
       "</div>"
      ],
      "text/plain": [
       "           data  casosAcumulados  casosNovos  descartados  recuperados  \\\n",
       "0    2021-01-22           181773        1309       229721       138676   \n",
       "1    2021-01-21           180464        1111       229281       138673   \n",
       "2    2021-01-20           179353        1272       228228       138664   \n",
       "3    2021-01-19           178081         238       228046       133894   \n",
       "4    2021-01-18           177843         225       227850       133463   \n",
       "..          ...              ...         ...          ...          ...   \n",
       "308  2020-03-20                0           0            0            0   \n",
       "309  2020-03-19                0           0            0            0   \n",
       "310  2020-03-18                0           0            0            0   \n",
       "311  2020-03-17                0           0            0            0   \n",
       "312  2020-03-16                0           0            0            0   \n",
       "\n",
       "     obitosAcumulados  obitosNovos  Letalidade  \n",
       "0                3955           16      0.0218  \n",
       "1                3939           13      0.0218  \n",
       "2                3926           14      0.0219  \n",
       "3                3912           10      0.0220  \n",
       "4                3902           14      0.0219  \n",
       "..                ...          ...         ...  \n",
       "308                 0            0      0.0000  \n",
       "309                 0            0      0.0000  \n",
       "310                 0            0      0.0000  \n",
       "311                 0            0      0.0000  \n",
       "312                 0            0      0.0000  \n",
       "\n",
       "[313 rows x 8 columns]"
      ]
     },
     "execution_count": 48,
     "metadata": {},
     "output_type": "execute_result"
    }
   ],
   "source": [
    "boletimCovid = pd.read_csv('./datasets/boletim_diario.csv')\n",
    "boletimCovid"
   ]
  },
  {
   "cell_type": "code",
   "execution_count": 52,
   "metadata": {},
   "outputs": [
    {
     "data": {
      "text/html": [
       "<div>\n",
       "<style scoped>\n",
       "    .dataframe tbody tr th:only-of-type {\n",
       "        vertical-align: middle;\n",
       "    }\n",
       "\n",
       "    .dataframe tbody tr th {\n",
       "        vertical-align: top;\n",
       "    }\n",
       "\n",
       "    .dataframe thead th {\n",
       "        text-align: right;\n",
       "    }\n",
       "</style>\n",
       "<table border=\"1\" class=\"dataframe\">\n",
       "  <thead>\n",
       "    <tr style=\"text-align: right;\">\n",
       "      <th></th>\n",
       "      <th>data</th>\n",
       "      <th>casosAcumulados</th>\n",
       "      <th>casosNovos</th>\n",
       "      <th>descartados</th>\n",
       "      <th>recuperados</th>\n",
       "      <th>obitosAcumulados</th>\n",
       "      <th>obitosNovos</th>\n",
       "      <th>Letalidade</th>\n",
       "    </tr>\n",
       "  </thead>\n",
       "  <tbody>\n",
       "    <tr>\n",
       "      <th>0</th>\n",
       "      <td>2021-01-22</td>\n",
       "      <td>181773</td>\n",
       "      <td>1309</td>\n",
       "      <td>229721</td>\n",
       "      <td>138676</td>\n",
       "      <td>3955</td>\n",
       "      <td>16</td>\n",
       "      <td>0.0218</td>\n",
       "    </tr>\n",
       "    <tr>\n",
       "      <th>1</th>\n",
       "      <td>2021-01-21</td>\n",
       "      <td>180464</td>\n",
       "      <td>1111</td>\n",
       "      <td>229281</td>\n",
       "      <td>138673</td>\n",
       "      <td>3939</td>\n",
       "      <td>13</td>\n",
       "      <td>0.0218</td>\n",
       "    </tr>\n",
       "    <tr>\n",
       "      <th>2</th>\n",
       "      <td>2021-01-20</td>\n",
       "      <td>179353</td>\n",
       "      <td>1272</td>\n",
       "      <td>228228</td>\n",
       "      <td>138664</td>\n",
       "      <td>3926</td>\n",
       "      <td>14</td>\n",
       "      <td>0.0219</td>\n",
       "    </tr>\n",
       "    <tr>\n",
       "      <th>3</th>\n",
       "      <td>2021-01-19</td>\n",
       "      <td>178081</td>\n",
       "      <td>238</td>\n",
       "      <td>228046</td>\n",
       "      <td>133894</td>\n",
       "      <td>3912</td>\n",
       "      <td>10</td>\n",
       "      <td>0.0220</td>\n",
       "    </tr>\n",
       "    <tr>\n",
       "      <th>4</th>\n",
       "      <td>2021-01-18</td>\n",
       "      <td>177843</td>\n",
       "      <td>225</td>\n",
       "      <td>227850</td>\n",
       "      <td>133463</td>\n",
       "      <td>3902</td>\n",
       "      <td>14</td>\n",
       "      <td>0.0219</td>\n",
       "    </tr>\n",
       "  </tbody>\n",
       "</table>\n",
       "</div>"
      ],
      "text/plain": [
       "         data  casosAcumulados  casosNovos  descartados  recuperados  \\\n",
       "0  2021-01-22           181773        1309       229721       138676   \n",
       "1  2021-01-21           180464        1111       229281       138673   \n",
       "2  2021-01-20           179353        1272       228228       138664   \n",
       "3  2021-01-19           178081         238       228046       133894   \n",
       "4  2021-01-18           177843         225       227850       133463   \n",
       "\n",
       "   obitosAcumulados  obitosNovos  Letalidade  \n",
       "0              3955           16      0.0218  \n",
       "1              3939           13      0.0218  \n",
       "2              3926           14      0.0219  \n",
       "3              3912           10      0.0220  \n",
       "4              3902           14      0.0219  "
      ]
     },
     "execution_count": 52,
     "metadata": {},
     "output_type": "execute_result"
    }
   ],
   "source": [
    "boletimCovid.head(5)"
   ]
  },
  {
   "cell_type": "code",
   "execution_count": 55,
   "metadata": {},
   "outputs": [
    {
     "data": {
      "text/html": [
       "<div>\n",
       "<style scoped>\n",
       "    .dataframe tbody tr th:only-of-type {\n",
       "        vertical-align: middle;\n",
       "    }\n",
       "\n",
       "    .dataframe tbody tr th {\n",
       "        vertical-align: top;\n",
       "    }\n",
       "\n",
       "    .dataframe thead th {\n",
       "        text-align: right;\n",
       "    }\n",
       "</style>\n",
       "<table border=\"1\" class=\"dataframe\">\n",
       "  <thead>\n",
       "    <tr style=\"text-align: right;\">\n",
       "      <th></th>\n",
       "      <th>data</th>\n",
       "      <th>casosAcumulados</th>\n",
       "      <th>casosNovos</th>\n",
       "      <th>descartados</th>\n",
       "      <th>recuperados</th>\n",
       "      <th>obitosAcumulados</th>\n",
       "      <th>obitosNovos</th>\n",
       "      <th>Letalidade</th>\n",
       "    </tr>\n",
       "  </thead>\n",
       "  <tbody>\n",
       "    <tr>\n",
       "      <th>303</th>\n",
       "      <td>2020-03-25</td>\n",
       "      <td>5</td>\n",
       "      <td>2</td>\n",
       "      <td>117</td>\n",
       "      <td>0</td>\n",
       "      <td>0</td>\n",
       "      <td>0</td>\n",
       "      <td>0.0</td>\n",
       "    </tr>\n",
       "    <tr>\n",
       "      <th>304</th>\n",
       "      <td>2020-03-24</td>\n",
       "      <td>3</td>\n",
       "      <td>1</td>\n",
       "      <td>100</td>\n",
       "      <td>0</td>\n",
       "      <td>0</td>\n",
       "      <td>0</td>\n",
       "      <td>0.0</td>\n",
       "    </tr>\n",
       "    <tr>\n",
       "      <th>305</th>\n",
       "      <td>2020-03-23</td>\n",
       "      <td>2</td>\n",
       "      <td>1</td>\n",
       "      <td>61</td>\n",
       "      <td>0</td>\n",
       "      <td>0</td>\n",
       "      <td>0</td>\n",
       "      <td>0.0</td>\n",
       "    </tr>\n",
       "    <tr>\n",
       "      <th>306</th>\n",
       "      <td>2020-03-22</td>\n",
       "      <td>1</td>\n",
       "      <td>0</td>\n",
       "      <td>40</td>\n",
       "      <td>0</td>\n",
       "      <td>0</td>\n",
       "      <td>0</td>\n",
       "      <td>0.0</td>\n",
       "    </tr>\n",
       "    <tr>\n",
       "      <th>307</th>\n",
       "      <td>2020-03-21</td>\n",
       "      <td>1</td>\n",
       "      <td>1</td>\n",
       "      <td>0</td>\n",
       "      <td>0</td>\n",
       "      <td>0</td>\n",
       "      <td>0</td>\n",
       "      <td>0.0</td>\n",
       "    </tr>\n",
       "    <tr>\n",
       "      <th>308</th>\n",
       "      <td>2020-03-20</td>\n",
       "      <td>0</td>\n",
       "      <td>0</td>\n",
       "      <td>0</td>\n",
       "      <td>0</td>\n",
       "      <td>0</td>\n",
       "      <td>0</td>\n",
       "      <td>0.0</td>\n",
       "    </tr>\n",
       "    <tr>\n",
       "      <th>309</th>\n",
       "      <td>2020-03-19</td>\n",
       "      <td>0</td>\n",
       "      <td>0</td>\n",
       "      <td>0</td>\n",
       "      <td>0</td>\n",
       "      <td>0</td>\n",
       "      <td>0</td>\n",
       "      <td>0.0</td>\n",
       "    </tr>\n",
       "    <tr>\n",
       "      <th>310</th>\n",
       "      <td>2020-03-18</td>\n",
       "      <td>0</td>\n",
       "      <td>0</td>\n",
       "      <td>0</td>\n",
       "      <td>0</td>\n",
       "      <td>0</td>\n",
       "      <td>0</td>\n",
       "      <td>0.0</td>\n",
       "    </tr>\n",
       "    <tr>\n",
       "      <th>311</th>\n",
       "      <td>2020-03-17</td>\n",
       "      <td>0</td>\n",
       "      <td>0</td>\n",
       "      <td>0</td>\n",
       "      <td>0</td>\n",
       "      <td>0</td>\n",
       "      <td>0</td>\n",
       "      <td>0.0</td>\n",
       "    </tr>\n",
       "    <tr>\n",
       "      <th>312</th>\n",
       "      <td>2020-03-16</td>\n",
       "      <td>0</td>\n",
       "      <td>0</td>\n",
       "      <td>0</td>\n",
       "      <td>0</td>\n",
       "      <td>0</td>\n",
       "      <td>0</td>\n",
       "      <td>0.0</td>\n",
       "    </tr>\n",
       "  </tbody>\n",
       "</table>\n",
       "</div>"
      ],
      "text/plain": [
       "           data  casosAcumulados  casosNovos  descartados  recuperados  \\\n",
       "303  2020-03-25                5           2          117            0   \n",
       "304  2020-03-24                3           1          100            0   \n",
       "305  2020-03-23                2           1           61            0   \n",
       "306  2020-03-22                1           0           40            0   \n",
       "307  2020-03-21                1           1            0            0   \n",
       "308  2020-03-20                0           0            0            0   \n",
       "309  2020-03-19                0           0            0            0   \n",
       "310  2020-03-18                0           0            0            0   \n",
       "311  2020-03-17                0           0            0            0   \n",
       "312  2020-03-16                0           0            0            0   \n",
       "\n",
       "     obitosAcumulados  obitosNovos  Letalidade  \n",
       "303                 0            0         0.0  \n",
       "304                 0            0         0.0  \n",
       "305                 0            0         0.0  \n",
       "306                 0            0         0.0  \n",
       "307                 0            0         0.0  \n",
       "308                 0            0         0.0  \n",
       "309                 0            0         0.0  \n",
       "310                 0            0         0.0  \n",
       "311                 0            0         0.0  \n",
       "312                 0            0         0.0  "
      ]
     },
     "execution_count": 55,
     "metadata": {},
     "output_type": "execute_result"
    }
   ],
   "source": [
    "boletimCovid.tail(10)"
   ]
  },
  {
   "cell_type": "code",
   "execution_count": 56,
   "metadata": {},
   "outputs": [
    {
     "name": "stdout",
     "output_type": "stream",
     "text": [
      "<class 'pandas.core.frame.DataFrame'>\n",
      "RangeIndex: 313 entries, 0 to 312\n",
      "Data columns (total 8 columns):\n",
      " #   Column            Non-Null Count  Dtype  \n",
      "---  ------            --------------  -----  \n",
      " 0   data              313 non-null    object \n",
      " 1   casosAcumulados   313 non-null    int64  \n",
      " 2   casosNovos        313 non-null    int64  \n",
      " 3   descartados       313 non-null    int64  \n",
      " 4   recuperados       313 non-null    int64  \n",
      " 5   obitosAcumulados  313 non-null    int64  \n",
      " 6   obitosNovos       313 non-null    int64  \n",
      " 7   Letalidade        313 non-null    float64\n",
      "dtypes: float64(1), int64(6), object(1)\n",
      "memory usage: 19.7+ KB\n"
     ]
    }
   ],
   "source": [
    "boletimCovid.info()"
   ]
  },
  {
   "cell_type": "code",
   "execution_count": 57,
   "metadata": {},
   "outputs": [
    {
     "data": {
      "text/html": [
       "<div>\n",
       "<style scoped>\n",
       "    .dataframe tbody tr th:only-of-type {\n",
       "        vertical-align: middle;\n",
       "    }\n",
       "\n",
       "    .dataframe tbody tr th {\n",
       "        vertical-align: top;\n",
       "    }\n",
       "\n",
       "    .dataframe thead th {\n",
       "        text-align: right;\n",
       "    }\n",
       "</style>\n",
       "<table border=\"1\" class=\"dataframe\">\n",
       "  <thead>\n",
       "    <tr style=\"text-align: right;\">\n",
       "      <th></th>\n",
       "      <th>casosAcumulados</th>\n",
       "      <th>casosNovos</th>\n",
       "      <th>descartados</th>\n",
       "      <th>recuperados</th>\n",
       "      <th>obitosAcumulados</th>\n",
       "      <th>obitosNovos</th>\n",
       "      <th>Letalidade</th>\n",
       "    </tr>\n",
       "  </thead>\n",
       "  <tbody>\n",
       "    <tr>\n",
       "      <th>count</th>\n",
       "      <td>313.000000</td>\n",
       "      <td>313.000000</td>\n",
       "      <td>313.000000</td>\n",
       "      <td>313.000000</td>\n",
       "      <td>313.000000</td>\n",
       "      <td>313.000000</td>\n",
       "      <td>313.000000</td>\n",
       "    </tr>\n",
       "    <tr>\n",
       "      <th>mean</th>\n",
       "      <td>83940.022364</td>\n",
       "      <td>580.744409</td>\n",
       "      <td>108888.785942</td>\n",
       "      <td>59678.070288</td>\n",
       "      <td>1907.702875</td>\n",
       "      <td>12.635783</td>\n",
       "      <td>0.031785</td>\n",
       "    </tr>\n",
       "    <tr>\n",
       "      <th>std</th>\n",
       "      <td>60573.257636</td>\n",
       "      <td>500.482599</td>\n",
       "      <td>82722.447400</td>\n",
       "      <td>50526.573715</td>\n",
       "      <td>1359.833827</td>\n",
       "      <td>8.868064</td>\n",
       "      <td>0.027808</td>\n",
       "    </tr>\n",
       "    <tr>\n",
       "      <th>min</th>\n",
       "      <td>0.000000</td>\n",
       "      <td>0.000000</td>\n",
       "      <td>0.000000</td>\n",
       "      <td>0.000000</td>\n",
       "      <td>0.000000</td>\n",
       "      <td>0.000000</td>\n",
       "      <td>0.000000</td>\n",
       "    </tr>\n",
       "    <tr>\n",
       "      <th>25%</th>\n",
       "      <td>14859.000000</td>\n",
       "      <td>162.000000</td>\n",
       "      <td>13270.000000</td>\n",
       "      <td>2920.000000</td>\n",
       "      <td>379.000000</td>\n",
       "      <td>7.000000</td>\n",
       "      <td>0.022100</td>\n",
       "    </tr>\n",
       "    <tr>\n",
       "      <th>50%</th>\n",
       "      <td>98494.000000</td>\n",
       "      <td>523.000000</td>\n",
       "      <td>119323.000000</td>\n",
       "      <td>60655.000000</td>\n",
       "      <td>2223.000000</td>\n",
       "      <td>11.000000</td>\n",
       "      <td>0.023000</td>\n",
       "    </tr>\n",
       "    <tr>\n",
       "      <th>75%</th>\n",
       "      <td>134297.000000</td>\n",
       "      <td>838.000000</td>\n",
       "      <td>187718.000000</td>\n",
       "      <td>110029.000000</td>\n",
       "      <td>3138.000000</td>\n",
       "      <td>18.000000</td>\n",
       "      <td>0.023400</td>\n",
       "    </tr>\n",
       "    <tr>\n",
       "      <th>max</th>\n",
       "      <td>181773.000000</td>\n",
       "      <td>3333.000000</td>\n",
       "      <td>229721.000000</td>\n",
       "      <td>138676.000000</td>\n",
       "      <td>3955.000000</td>\n",
       "      <td>46.000000</td>\n",
       "      <td>0.145500</td>\n",
       "    </tr>\n",
       "  </tbody>\n",
       "</table>\n",
       "</div>"
      ],
      "text/plain": [
       "       casosAcumulados   casosNovos    descartados    recuperados  \\\n",
       "count       313.000000   313.000000     313.000000     313.000000   \n",
       "mean      83940.022364   580.744409  108888.785942   59678.070288   \n",
       "std       60573.257636   500.482599   82722.447400   50526.573715   \n",
       "min           0.000000     0.000000       0.000000       0.000000   \n",
       "25%       14859.000000   162.000000   13270.000000    2920.000000   \n",
       "50%       98494.000000   523.000000  119323.000000   60655.000000   \n",
       "75%      134297.000000   838.000000  187718.000000  110029.000000   \n",
       "max      181773.000000  3333.000000  229721.000000  138676.000000   \n",
       "\n",
       "       obitosAcumulados  obitosNovos  Letalidade  \n",
       "count        313.000000   313.000000  313.000000  \n",
       "mean        1907.702875    12.635783    0.031785  \n",
       "std         1359.833827     8.868064    0.027808  \n",
       "min            0.000000     0.000000    0.000000  \n",
       "25%          379.000000     7.000000    0.022100  \n",
       "50%         2223.000000    11.000000    0.023000  \n",
       "75%         3138.000000    18.000000    0.023400  \n",
       "max         3955.000000    46.000000    0.145500  "
      ]
     },
     "execution_count": 57,
     "metadata": {},
     "output_type": "execute_result"
    }
   ],
   "source": [
    "boletimCovid.describe()"
   ]
  },
  {
   "cell_type": "markdown",
   "metadata": {},
   "source": [
    "<h3 align=\"left\" style=\"color:blue\" >\n",
    "   Seccionando os dados\n",
    "<h3>\n",
    "<hr align=\"left\" width=\"200px\">"
   ]
  },
  {
   "cell_type": "code",
   "execution_count": null,
   "metadata": {},
   "outputs": [],
   "source": []
  },
  {
   "cell_type": "code",
   "execution_count": null,
   "metadata": {},
   "outputs": [],
   "source": []
  },
  {
   "cell_type": "code",
   "execution_count": null,
   "metadata": {},
   "outputs": [],
   "source": []
  },
  {
   "cell_type": "code",
   "execution_count": null,
   "metadata": {},
   "outputs": [],
   "source": []
  },
  {
   "cell_type": "code",
   "execution_count": null,
   "metadata": {},
   "outputs": [],
   "source": []
  },
  {
   "cell_type": "code",
   "execution_count": null,
   "metadata": {},
   "outputs": [],
   "source": []
  },
  {
   "cell_type": "code",
   "execution_count": null,
   "metadata": {},
   "outputs": [],
   "source": []
  },
  {
   "cell_type": "code",
   "execution_count": null,
   "metadata": {},
   "outputs": [],
   "source": []
  },
  {
   "cell_type": "code",
   "execution_count": null,
   "metadata": {},
   "outputs": [],
   "source": []
  },
  {
   "cell_type": "markdown",
   "metadata": {},
   "source": [
    "<div>\n",
    "    <a href=\"https://www.ufpb.br/\">\n",
    "        <img src=\"../images/logo_ufpb.png\" align=\"left\" height=\"50px\" width=\"70px\">\n",
    "    </a>\n",
    "    <a href=\"http://www.cear.ufpb.br/\">\n",
    "        <img src=\"../images/logo_cear.png\" align=\"left\" width=\"95px\">\n",
    "    </a>\n",
    "</div>"
   ]
  },
  {
   "cell_type": "code",
   "execution_count": 44,
   "metadata": {},
   "outputs": [],
   "source": [
    "os.chdir('C:\\\\Users\\\\manu_\\\\OneDrive\\\\Documentos\\\\Faculdade\\\\Projetos_Faculdade\\\\PET\\\\intro_a_manipulacao_de_dados_com_python')"
   ]
  },
  {
   "cell_type": "code",
   "execution_count": 45,
   "metadata": {},
   "outputs": [
    {
     "data": {
      "text/plain": [
       "'C:\\\\Users\\\\manu_\\\\OneDrive\\\\Documentos\\\\Faculdade\\\\Projetos_Faculdade\\\\PET\\\\intro_a_manipulacao_de_dados_com_python'"
      ]
     },
     "execution_count": 45,
     "metadata": {},
     "output_type": "execute_result"
    }
   ],
   "source": [
    "os.getcwd()"
   ]
  }
 ],
 "metadata": {
  "kernelspec": {
   "display_name": "Python 3",
   "language": "python",
   "name": "python3"
  },
  "language_info": {
   "codemirror_mode": {
    "name": "ipython",
    "version": 3
   },
   "file_extension": ".py",
   "mimetype": "text/x-python",
   "name": "python",
   "nbconvert_exporter": "python",
   "pygments_lexer": "ipython3",
   "version": "3.8.7"
  }
 },
 "nbformat": 4,
 "nbformat_minor": 4
}
